{
 "cells": [
  {
   "cell_type": "code",
   "execution_count": 1,
   "id": "ba1c255a",
   "metadata": {},
   "outputs": [],
   "source": [
    "import pandas as pd"
   ]
  },
  {
   "cell_type": "code",
   "execution_count": 2,
   "id": "f1e08508",
   "metadata": {},
   "outputs": [],
   "source": [
    "data = pd.read_csv('artwork_sample.csv')"
   ]
  },
  {
   "cell_type": "code",
   "execution_count": 3,
   "id": "3049811c",
   "metadata": {},
   "outputs": [
    {
     "data": {
      "text/plain": [
       "Index(['id', 'accession_number', 'artist', 'artistRole', 'artistId', 'title',\n",
       "       'dateText', 'medium', 'creditLine', 'year', 'acquisitionYear',\n",
       "       'dimensions', 'width', 'height', 'depth', 'units', 'inscription',\n",
       "       'thumbnailCopyright', 'thumbnailUrl', 'url'],\n",
       "      dtype='object')"
      ]
     },
     "execution_count": 3,
     "metadata": {},
     "output_type": "execute_result"
    }
   ],
   "source": [
    "data.columns"
   ]
  },
  {
   "cell_type": "code",
   "execution_count": 5,
   "id": "878f7466",
   "metadata": {},
   "outputs": [],
   "source": [
    "data.rename(columns={\"thumbnailUrl\": \"thumbnail\"}, inplace=True)"
   ]
  },
  {
   "cell_type": "code",
   "execution_count": 6,
   "id": "d3a7282a",
   "metadata": {},
   "outputs": [
    {
     "data": {
      "text/plain": [
       "Index(['id', 'accession_number', 'artist', 'artistRole', 'artistId', 'title',\n",
       "       'dateText', 'medium', 'creditLine', 'year', 'acquisitionYear',\n",
       "       'dimensions', 'width', 'height', 'depth', 'units', 'inscription',\n",
       "       'thumbnailCopyright', 'thumbnail', 'url'],\n",
       "      dtype='object')"
      ]
     },
     "execution_count": 6,
     "metadata": {},
     "output_type": "execute_result"
    }
   ],
   "source": [
    "data.columns"
   ]
  },
  {
   "cell_type": "code",
   "execution_count": 7,
   "id": "3c14acf2",
   "metadata": {},
   "outputs": [],
   "source": [
    "data.rename(columns=lambda x: x.lower(), inplace=True)"
   ]
  },
  {
   "cell_type": "code",
   "execution_count": 8,
   "id": "11912075",
   "metadata": {},
   "outputs": [
    {
     "data": {
      "text/plain": [
       "Index(['id', 'accession_number', 'artist', 'artistrole', 'artistid', 'title',\n",
       "       'datetext', 'medium', 'creditline', 'year', 'acquisitionyear',\n",
       "       'dimensions', 'width', 'height', 'depth', 'units', 'inscription',\n",
       "       'thumbnailcopyright', 'thumbnail', 'url'],\n",
       "      dtype='object')"
      ]
     },
     "execution_count": 8,
     "metadata": {},
     "output_type": "execute_result"
    }
   ],
   "source": [
    "data.columns"
   ]
  },
  {
   "cell_type": "code",
   "execution_count": 9,
   "id": "0bd68657",
   "metadata": {},
   "outputs": [],
   "source": [
    "data.columns = ['id', 'AccessionNumber', 'Artist', 'ArtistRole', 'ArtistId', 'Title',\n",
    "       'DateText', 'Medium', 'CreditLine', 'Year', 'AcquisitionYear',\n",
    "       'Dimensions', 'Width', 'Height', 'Depth', 'Units', 'Inscription',\n",
    "       'ThumbnailCopyright', 'Thumbnail', 'URL']"
   ]
  },
  {
   "cell_type": "code",
   "execution_count": 10,
   "id": "e726ea81",
   "metadata": {},
   "outputs": [
    {
     "data": {
      "text/plain": [
       "Index(['id', 'AccessionNumber', 'Artist', 'ArtistRole', 'ArtistId', 'Title',\n",
       "       'DateText', 'Medium', 'CreditLine', 'Year', 'AcquisitionYear',\n",
       "       'Dimensions', 'Width', 'Height', 'Depth', 'Units', 'Inscription',\n",
       "       'ThumbnailCopyright', 'Thumbnail', 'URL'],\n",
       "      dtype='object')"
      ]
     },
     "execution_count": 10,
     "metadata": {},
     "output_type": "execute_result"
    }
   ],
   "source": [
    "data.columns"
   ]
  },
  {
   "cell_type": "code",
   "execution_count": 13,
   "id": "707fd09b",
   "metadata": {},
   "outputs": [],
   "source": [
    "data = pd.read_csv('artwork_sample.csv', names=['id', 'AccessionNumber', 'Artist', 'ArtistRole', 'ArtistId', 'Title',\n",
    "       'DateText', 'Medium', 'CreditLine', 'Year', 'AcquisitionYear',\n",
    "       'Dimensions', 'Width', 'Height', 'Depth', 'Units', 'Inscription',\n",
    "       'ThumbnailCopyright', 'Thumbnail', 'URL'], header=0)"
   ]
  },
  {
   "cell_type": "code",
   "execution_count": 14,
   "id": "05df5128",
   "metadata": {},
   "outputs": [
    {
     "data": {
      "text/plain": [
       "Index(['id', 'AccessionNumber', 'Artist', 'ArtistRole', 'ArtistId', 'Title',\n",
       "       'DateText', 'Medium', 'CreditLine', 'Year', 'AcquisitionYear',\n",
       "       'Dimensions', 'Width', 'Height', 'Depth', 'Units', 'Inscription',\n",
       "       'ThumbnailCopyright', 'Thumbnail', 'URL'],\n",
       "      dtype='object')"
      ]
     },
     "execution_count": 14,
     "metadata": {},
     "output_type": "execute_result"
    }
   ],
   "source": [
    "data.columns"
   ]
  },
  {
   "cell_type": "code",
   "execution_count": null,
   "id": "f88e6a99",
   "metadata": {},
   "outputs": [],
   "source": []
  }
 ],
 "metadata": {
  "kernelspec": {
   "display_name": "Python 3 (ipykernel)",
   "language": "python",
   "name": "python3"
  },
  "language_info": {
   "codemirror_mode": {
    "name": "ipython",
    "version": 3
   },
   "file_extension": ".py",
   "mimetype": "text/x-python",
   "name": "python",
   "nbconvert_exporter": "python",
   "pygments_lexer": "ipython3",
   "version": "3.10.1"
  }
 },
 "nbformat": 4,
 "nbformat_minor": 5
}
